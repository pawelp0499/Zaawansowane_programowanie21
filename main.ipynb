{
  "nbformat": 4,
  "nbformat_minor": 0,
  "metadata": {
    "colab": {
      "name": "main.ipynb",
      "provenance": [],
      "collapsed_sections": []
    },
    "kernelspec": {
      "name": "python3",
      "display_name": "Python 3"
    },
    "language_info": {
      "name": "python"
    }
  },
  "cells": [
    {
      "cell_type": "code",
      "execution_count": null,
      "metadata": {
        "id": "T4fbBL1zguVi"
      },
      "outputs": [],
      "source": [
        "!apt-get install tesseract-ocr\n",
        "!pip install pytesseract\n"
      ]
    },
    {
      "cell_type": "code",
      "source": [
        "def read_text_from_img(img):\n",
        "  return pytesseract.image_to_string(cv2.cvtColor(img, cv2.COLOR_BGR2RGB))"
      ],
      "metadata": {
        "id": "sR1QwgAbhpAQ"
      },
      "execution_count": 13,
      "outputs": []
    },
    {
      "cell_type": "code",
      "source": [
        "import cv2\n",
        "import pytesseract\n",
        "\n",
        "read_text_from_img(cv2.imread('/content/sample_data/picture1.jpg'))\n",
        "read_text_from_img(cv2.imread('/content/sample_data/picture2.png'))\n",
        "read_text_from_img(cv2.imread('/content/sample_data/picture3.png'))\n",
        "read_text_from_img(cv2.imread('/content/sample_data/picture4.jpg'))\n",
        "read_text_from_img(cv2.imread('/content/sample_data/picture5.jpg'))"
      ],
      "metadata": {
        "colab": {
          "base_uri": "https://localhost:8080/",
          "height": 35
        },
        "id": "n-IP08wch8A_",
        "outputId": "b240469c-17d3-4b2e-809a-f8d8d62e944a"
      },
      "execution_count": 32,
      "outputs": [
        {
          "output_type": "execute_result",
          "data": {
            "application/vnd.google.colaboratory.intrinsic+json": {
              "type": "string"
            },
            "text/plain": [
              "'Noisyimage\\nto test\\nTesseract OCR\\n\\x0c'"
            ]
          },
          "metadata": {},
          "execution_count": 32
        }
      ]
    }
  ]
}